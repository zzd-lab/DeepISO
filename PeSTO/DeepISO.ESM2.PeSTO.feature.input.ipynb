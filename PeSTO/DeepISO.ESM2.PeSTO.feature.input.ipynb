{
 "cells": [
  {
   "cell_type": "code",
   "execution_count": 1,
   "id": "finite-respondent",
   "metadata": {},
   "outputs": [],
   "source": [
    "#This section has been modified based on the open-source code provided by PeSTO. For specific usage details, please refer to https://github.com/SonyCSLParis/pesto\n",
    "import os\n",
    "import sys\n",
    "import h5py\n",
    "import json\n",
    "import numpy as np\n",
    "import torch as pt\n",
    "import pandas as pd\n",
    "import matplotlib.pyplot as plt\n",
    "from tqdm import tqdm\n",
    "from glob import glob\n",
    "\n",
    "from src.dataset import StructuresDataset, collate_batch_features, select_by_sid, select_by_interface_types\n",
    "from src.data_encoding import encode_structure, encode_features, extract_topology, categ_to_resnames, resname_to_categ\n",
    "from src.structure import data_to_structure, encode_bfactor, concatenate_chains, split_by_chain\n",
    "from src.structure_io import save_pdb, read_pdb\n",
    "from src.scoring import bc_scoring, bc_score_names\n",
    "\n",
    "# data parameters\n",
    "data_path = \"/your/PDB/file/path\"\n",
    "# model parameters\n",
    "# R3\n",
    "#save_path = \"model/save/i_v3_0_2021-05-27_14-27\"  # 89\n",
    "#save_path = \"model/save/i_v3_1_2021-05-28_12-40\"  # 90\n",
    "# R4\n",
    "#save_path = \"model/save/i_v4_0_2021-09-07_11-20\"  # 89\n",
    "save_path = \"model/save/i_v4_1_2021-09-07_11-21\"  # 91\n",
    "# save_path = \"/mnt/disk1/guoxiaokun/isoform/PeSTO/PeSTo-main/examples/isoform/save\"\n",
    "# select saved model\n",
    "model_filepath = os.path.join(save_path, 'model_ckpt.pt')\n",
    "#model_filepath = os.path.join(save_path, 'model.pt')"
   ]
  },
  {
   "cell_type": "code",
   "execution_count": 4,
   "id": "educational-discipline",
   "metadata": {},
   "outputs": [],
   "source": [
    "# add module to path\n",
    "if save_path not in sys.path:\n",
    "    sys.path.insert(0, save_path)\n",
    "    \n",
    "# load functions\n",
    "from config import config_model, config_data\n",
    "from data_handler import Dataset\n",
    "from model import Model\n",
    "\n",
    "device = pt.device(\"cpu\")\n",
    "model = Model(config_model)\n",
    "model.load_state_dict(pt.load(model_filepath, map_location=pt.device(\"cpu\")))\n",
    "model = model.eval().to(device)\n",
    "# find pdb files and ignore already predicted oins\n",
    "pdb_filepaths = glob(os.path.join(data_path, \"*.pdb\"), recursive=True)\n",
    "pdb_filepaths = [fp for fp in pdb_filepaths if \"_i\" not in fp]\n",
    "# create dataset loader with preprocessing\n",
    "dataset = StructuresDataset(pdb_filepaths, with_preprocessing=True)\n",
    "\n",
    "# debug print\n",
    "print(len(dataset))"
   ]
  },
  {
   "cell_type": "code",
   "execution_count": null,
   "id": "0b1e4fea-0e3e-4a6a-a096-597015b4591b",
   "metadata": {},
   "outputs": [],
   "source": [
    "# run model on all subunits\n",
    "protein_dict = {}\n",
    "with pt.no_grad():\n",
    "    for subunits, filepath in tqdm(dataset):\n",
    "        # concatenate all chains together\n",
    "        structure = concatenate_chains(subunits)\n",
    "        # encode structure and features\n",
    "        X, M = encode_structure(structure)\n",
    "        #q = pt.cat(encode_features(structure), dim=1)\n",
    "        q = encode_features(structure)[0]\n",
    "        # extract topology\n",
    "        ids_topk, _, _, _, _ = extract_topology(X, 64)\n",
    "        X, ids_topk, q, M = collate_batch_features([[X, ids_topk, q, M]])\n",
    "        # run model\n",
    "        z = model(X.to(device), ids_topk.to(device), q.to(device), M.float().to(device))\n",
    "        element = filepath[:-4].split('/')[-1]\n",
    "        proval = pt.sigmoid(z[:,0]).tolist()\n",
    "        proval_str = \"\\t\".join(map(str, proval))\n",
    "        protein_dict[element] = proval_str"
   ]
  },
  {
   "cell_type": "code",
   "execution_count": 13,
   "id": "ae7b034b",
   "metadata": {},
   "outputs": [],
   "source": [
    "#The output file will be used as input for the ESM2 GCN model.\n",
    "with open(\"/your/path/geometirc.allfeature.txt\", \"w\") as f:\n",
    "    for key, value in protein_dict.items():\n",
    "        f.write(f\"{key}\\t{value}\\n\")"
   ]
  }
 ],
 "metadata": {
  "kernelspec": {
   "display_name": "pesto",
   "language": "python",
   "name": "python3"
  },
  "language_info": {
   "codemirror_mode": {
    "name": "ipython",
    "version": 3
   },
   "file_extension": ".py",
   "mimetype": "text/x-python",
   "name": "python",
   "nbconvert_exporter": "python",
   "pygments_lexer": "ipython3",
   "version": "3.9.16"
  }
 },
 "nbformat": 4,
 "nbformat_minor": 5
}
